{
 "cells": [
  {
   "cell_type": "code",
   "execution_count": 5,
   "id": "3ddea81a-9155-40f4-810c-17817b9bd02c",
   "metadata": {},
   "outputs": [
    {
     "name": "stdout",
     "output_type": "stream",
     "text": [
      "   feature1  feature2  feature3  feature4\n",
      "0  0.374540  0.950714  0.731994  0.598658\n",
      "1  0.156019  0.155995  0.058084  0.866176\n",
      "2  0.601115  0.708073  0.020584  0.969910\n",
      "3  0.832443  0.212339  0.181825  0.183405\n",
      "   Random value 1  Random value 2  Random value 3  Random value 4\n",
      "0        0.374540        0.950714        0.731994        0.598658\n",
      "1        0.156019        0.155995        0.058084        0.866176\n",
      "2        0.601115        0.708073        0.020584        0.969910\n",
      "3        0.832443        0.212339        0.181825        0.183405\n"
     ]
    }
   ],
   "source": [
    "#task 1\n",
    "import pandas as pd\n",
    "import numpy as np\n",
    "np.random.seed(42)\n",
    "data = np.random.rand(4, 4)\n",
    "df = pd.DataFrame(data, columns=['feature1', 'feature2', 'feature3', 'feature4'])\n",
    "print(df)"
   ]
  },
  {
   "cell_type": "code",
   "execution_count": 10,
   "id": "1e305ca8-482d-4aef-9757-2dadf8c69b40",
   "metadata": {},
   "outputs": [
    {
     "name": "stdout",
     "output_type": "stream",
     "text": [
      "   Random value 1  Random value 2  Random value 3  Random value 4\n",
      "0        0.374540        0.950714        0.731994        0.598658\n",
      "1        0.156019        0.155995        0.058084        0.866176\n",
      "2        0.601115        0.708073        0.020584        0.969910\n",
      "3        0.832443        0.212339        0.181825        0.183405\n"
     ]
    }
   ],
   "source": [
    "#task 2\n",
    "df.rename(columns={'feature1': 'Random value 1','feature2': 'Random value 2','feature3': 'Random value 3','feature4': 'Random value 4'})\n",
    "print(df)"
   ]
  },
  {
   "cell_type": "code",
   "execution_count": 8,
   "id": "8b2572c6-4159-43f7-b182-f8e2e8b32ce1",
   "metadata": {},
   "outputs": [
    {
     "name": "stdout",
     "output_type": "stream",
     "text": [
      "       Random value 1  Random value 2  Random value 3  Random value 4\n",
      "count        4.000000        4.000000        4.000000        4.000000\n",
      "mean         0.491029        0.506780        0.248122        0.654537\n",
      "std          0.291252        0.386153        0.329856        0.350875\n",
      "min          0.156019        0.155995        0.020584        0.183405\n",
      "25%          0.319910        0.198253        0.048709        0.494845\n",
      "50%          0.487828        0.460206        0.119954        0.732417\n",
      "75%          0.658947        0.768733        0.319367        0.892110\n",
      "max          0.832443        0.950714        0.731994        0.969910\n"
     ]
    }
   ],
   "source": [
    "#task 3\n",
    "print(df.describe())"
   ]
  },
  {
   "cell_type": "code",
   "execution_count": 9,
   "id": "02f20143-a9f0-4423-b52f-3fb216c0d788",
   "metadata": {},
   "outputs": [
    {
     "name": "stdout",
     "output_type": "stream",
     "text": [
      "   Random value 1  Random value 2  Random value 3  Random value 4\n",
      "0           False           False           False           False\n",
      "1           False           False           False           False\n",
      "2           False           False           False           False\n",
      "3           False           False           False           False\n"
     ]
    }
   ],
   "source": [
    "#task 4\n",
    "print(df.isnull())"
   ]
  },
  {
   "cell_type": "code",
   "execution_count": 13,
   "id": "51546c99-9658-4a30-80fe-0eb5a6e95ffd",
   "metadata": {},
   "outputs": [
    {
     "name": "stdout",
     "output_type": "stream",
     "text": [
      "Random value 1    float64\n",
      "Random value 2    float64\n",
      "Random value 3    float64\n",
      "Random value 4    float64\n",
      "dtype: object\n"
     ]
    }
   ],
   "source": [
    "#task 4\n",
    "print(df.dtypes)"
   ]
  },
  {
   "cell_type": "code",
   "execution_count": 16,
   "id": "efa33396-e4a2-4c12-8b43-bb7286a7566f",
   "metadata": {},
   "outputs": [
    {
     "name": "stdout",
     "output_type": "stream",
     "text": [
      "   Random value 2  Random value 3\n",
      "0        0.950714        0.731994\n",
      "1        0.155995        0.058084\n",
      "2        0.708073        0.020584\n",
      "3        0.212339        0.181825\n"
     ]
    }
   ],
   "source": [
    "#task 5\n",
    "#location method\n",
    "dfloc = df.loc[:, ['Random value 2', 'Random value 3']]\n",
    "print(dfloc)"
   ]
  },
  {
   "cell_type": "code",
   "execution_count": 17,
   "id": "7bf75797-7153-4eb4-a604-77b69caf230f",
   "metadata": {},
   "outputs": [
    {
     "name": "stdout",
     "output_type": "stream",
     "text": [
      "   Random value 2  Random value 3\n",
      "0        0.950714        0.731994\n",
      "1        0.155995        0.058084\n",
      "2        0.708073        0.020584\n",
      "3        0.212339        0.181825\n"
     ]
    }
   ],
   "source": [
    "#task 5\n",
    "#Index location method\n",
    "dfiloc = df.iloc[:, [1, 2]]\n",
    "print(dfiloc)"
   ]
  },
  {
   "cell_type": "code",
   "execution_count": null,
   "id": "a2fb52e8-a7a1-4621-80ae-dc45a12145b4",
   "metadata": {},
   "outputs": [],
   "source": []
  }
 ],
 "metadata": {
  "kernelspec": {
   "display_name": "anaconda-2022.05-py39",
   "language": "python",
   "name": "conda-env-anaconda-2022.05-py39-py"
  },
  "language_info": {
   "codemirror_mode": {
    "name": "ipython",
    "version": 3
   },
   "file_extension": ".py",
   "mimetype": "text/x-python",
   "name": "python",
   "nbconvert_exporter": "python",
   "pygments_lexer": "ipython3",
   "version": "3.9.12"
  }
 },
 "nbformat": 4,
 "nbformat_minor": 5
}
